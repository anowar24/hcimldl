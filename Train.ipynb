{
 "cells": [
  {
   "cell_type": "code",
   "execution_count": null,
   "id": "966a7841",
   "metadata": {},
   "outputs": [
    {
     "name": "stdout",
     "output_type": "stream",
     "text": [
      "                     image  mean_score\n",
      "0  english_resized/143.png    4.483634\n",
      "1   english_resized/75.png    2.308903\n",
      "2   english_resized/24.png    3.789444\n",
      "3  english_resized/196.png    4.784378\n",
      "4  english_resized/282.png    5.743757\n",
      "Found 300 validated image filenames belonging to 9 classes.\n",
      "Fold 1/5\n",
      "Found 240 validated image filenames belonging to 9 classes.\n",
      "Found 60 validated image filenames belonging to 9 classes.\n",
      "Epoch 1/10\n"
     ]
    },
    {
     "name": "stderr",
     "output_type": "stream",
     "text": [
      "2023-06-15 20:46:10.619146: I tensorflow/core/common_runtime/executor.cc:1197] [/device:CPU:0] (DEBUG INFO) Executor start aborting (this does not indicate an error and you can ignore this message): INVALID_ARGUMENT: You must feed a value for placeholder tensor 'Placeholder/_0' with dtype int32\n",
      "\t [[{{node Placeholder/_0}}]]\n"
     ]
    },
    {
     "name": "stdout",
     "output_type": "stream",
     "text": [
      "8/8 [==============================] - ETA: 0s - loss: 4.5550 - accuracy: 0.1083"
     ]
    },
    {
     "name": "stderr",
     "output_type": "stream",
     "text": [
      "2023-06-15 20:46:53.509901: I tensorflow/core/common_runtime/executor.cc:1197] [/device:CPU:0] (DEBUG INFO) Executor start aborting (this does not indicate an error and you can ignore this message): INVALID_ARGUMENT: You must feed a value for placeholder tensor 'Placeholder/_0' with dtype int32\n",
      "\t [[{{node Placeholder/_0}}]]\n"
     ]
    },
    {
     "name": "stdout",
     "output_type": "stream",
     "text": [
      "8/8 [==============================] - 44s 5s/step - loss: 4.5550 - accuracy: 0.1083 - val_loss: 2.2007 - val_accuracy: 0.1167\n",
      "Epoch 2/10\n",
      "8/8 [==============================] - 41s 5s/step - loss: 2.6957 - accuracy: 0.1042 - val_loss: 2.3783 - val_accuracy: 0.0833\n",
      "Epoch 3/10\n",
      "8/8 [==============================] - 41s 5s/step - loss: 2.1977 - accuracy: 0.1125 - val_loss: 2.1976 - val_accuracy: 0.1167\n",
      "Epoch 4/10\n",
      "8/8 [==============================] - 42s 5s/step - loss: 2.1995 - accuracy: 0.1125 - val_loss: 2.1980 - val_accuracy: 0.1167\n",
      "Epoch 5/10\n",
      "8/8 [==============================] - 41s 5s/step - loss: 2.1980 - accuracy: 0.1125 - val_loss: 2.1979 - val_accuracy: 0.1167\n",
      "Epoch 6/10\n",
      "8/8 [==============================] - 41s 5s/step - loss: 2.1981 - accuracy: 0.1167 - val_loss: 2.1978 - val_accuracy: 0.1167\n",
      "Epoch 7/10\n",
      "8/8 [==============================] - 41s 5s/step - loss: 2.1973 - accuracy: 0.1167 - val_loss: 2.1977 - val_accuracy: 0.1167\n",
      "Epoch 8/10\n",
      "8/8 [==============================] - 41s 5s/step - loss: 2.1978 - accuracy: 0.1042 - val_loss: 2.1975 - val_accuracy: 0.1167\n",
      "Epoch 9/10\n",
      "8/8 [==============================] - 41s 5s/step - loss: 2.1983 - accuracy: 0.0958 - val_loss: 2.1976 - val_accuracy: 0.1167\n",
      "Epoch 10/10\n",
      "8/8 [==============================] - 41s 5s/step - loss: 2.1979 - accuracy: 0.0792 - val_loss: 2.1978 - val_accuracy: 0.1167\n",
      "Model saved at model_fold1.h5\n",
      "Fold 2/5\n",
      "Found 240 validated image filenames belonging to 9 classes.\n",
      "Found 60 validated image filenames belonging to 9 classes.\n",
      "Epoch 1/10\n"
     ]
    },
    {
     "name": "stderr",
     "output_type": "stream",
     "text": [
      "2023-06-15 20:53:07.396192: I tensorflow/core/common_runtime/executor.cc:1197] [/device:CPU:0] (DEBUG INFO) Executor start aborting (this does not indicate an error and you can ignore this message): INVALID_ARGUMENT: You must feed a value for placeholder tensor 'Placeholder/_0' with dtype int32\n",
      "\t [[{{node Placeholder/_0}}]]\n"
     ]
    },
    {
     "name": "stdout",
     "output_type": "stream",
     "text": [
      "8/8 [==============================] - ETA: 0s - loss: 5.5621 - accuracy: 0.0958"
     ]
    },
    {
     "name": "stderr",
     "output_type": "stream",
     "text": [
      "2023-06-15 20:53:48.719819: I tensorflow/core/common_runtime/executor.cc:1197] [/device:CPU:0] (DEBUG INFO) Executor start aborting (this does not indicate an error and you can ignore this message): INVALID_ARGUMENT: You must feed a value for placeholder tensor 'Placeholder/_0' with dtype int32\n",
      "\t [[{{node Placeholder/_0}}]]\n"
     ]
    },
    {
     "name": "stdout",
     "output_type": "stream",
     "text": [
      "8/8 [==============================] - 43s 5s/step - loss: 5.5621 - accuracy: 0.0958 - val_loss: 2.1970 - val_accuracy: 0.1167\n",
      "Epoch 2/10\n",
      "8/8 [==============================] - 41s 5s/step - loss: 2.9210 - accuracy: 0.1083 - val_loss: 2.1945 - val_accuracy: 0.1167\n",
      "Epoch 3/10\n",
      "8/8 [==============================] - 41s 5s/step - loss: 2.2000 - accuracy: 0.1167 - val_loss: 2.1976 - val_accuracy: 0.1167\n",
      "Epoch 4/10\n",
      "8/8 [==============================] - 41s 5s/step - loss: 2.2353 - accuracy: 0.1125 - val_loss: 2.1985 - val_accuracy: 0.1167\n",
      "Epoch 5/10\n",
      "8/8 [==============================] - 41s 5s/step - loss: 2.1978 - accuracy: 0.1083 - val_loss: 2.1990 - val_accuracy: 0.1167\n",
      "Epoch 6/10\n",
      "8/8 [==============================] - 41s 5s/step - loss: 2.2125 - accuracy: 0.1000 - val_loss: 2.1989 - val_accuracy: 0.1000\n",
      "Epoch 7/10\n",
      "8/8 [==============================] - 41s 5s/step - loss: 2.2025 - accuracy: 0.1042 - val_loss: 2.1988 - val_accuracy: 0.1000\n",
      "Epoch 8/10\n",
      "8/8 [==============================] - 41s 5s/step - loss: 2.1987 - accuracy: 0.1083 - val_loss: 2.1988 - val_accuracy: 0.1000\n",
      "Epoch 9/10\n",
      "8/8 [==============================] - 41s 5s/step - loss: 2.1984 - accuracy: 0.1125 - val_loss: 2.1990 - val_accuracy: 0.1000\n",
      "Epoch 10/10\n",
      "8/8 [==============================] - 41s 5s/step - loss: 2.1969 - accuracy: 0.1125 - val_loss: 2.1990 - val_accuracy: 0.1000\n",
      "Model saved at model_fold2.h5\n",
      "Fold 3/5\n",
      "Found 240 validated image filenames belonging to 9 classes.\n",
      "Found 60 validated image filenames belonging to 9 classes.\n",
      "Epoch 1/10\n"
     ]
    },
    {
     "name": "stderr",
     "output_type": "stream",
     "text": [
      "2023-06-15 21:00:00.036950: I tensorflow/core/common_runtime/executor.cc:1197] [/device:CPU:0] (DEBUG INFO) Executor start aborting (this does not indicate an error and you can ignore this message): INVALID_ARGUMENT: You must feed a value for placeholder tensor 'Placeholder/_0' with dtype int32\n",
      "\t [[{{node Placeholder/_0}}]]\n"
     ]
    },
    {
     "name": "stdout",
     "output_type": "stream",
     "text": [
      "8/8 [==============================] - ETA: 0s - loss: 6.1883 - accuracy: 0.1000"
     ]
    },
    {
     "name": "stderr",
     "output_type": "stream",
     "text": [
      "2023-06-15 21:00:41.909502: I tensorflow/core/common_runtime/executor.cc:1197] [/device:CPU:0] (DEBUG INFO) Executor start aborting (this does not indicate an error and you can ignore this message): INVALID_ARGUMENT: You must feed a value for placeholder tensor 'Placeholder/_0' with dtype int32\n",
      "\t [[{{node Placeholder/_0}}]]\n"
     ]
    },
    {
     "name": "stdout",
     "output_type": "stream",
     "text": [
      "8/8 [==============================] - 43s 5s/step - loss: 6.1883 - accuracy: 0.1000 - val_loss: 2.3616 - val_accuracy: 0.1167\n",
      "Epoch 2/10\n",
      "8/8 [==============================] - 40s 5s/step - loss: 2.2724 - accuracy: 0.1167 - val_loss: 2.2196 - val_accuracy: 0.1167\n",
      "Epoch 3/10\n",
      "8/8 [==============================] - 40s 5s/step - loss: 2.4860 - accuracy: 0.1333 - val_loss: 2.1967 - val_accuracy: 0.1167\n",
      "Epoch 4/10\n",
      "8/8 [==============================] - 41s 5s/step - loss: 2.1978 - accuracy: 0.1125 - val_loss: 2.1969 - val_accuracy: 0.1167\n",
      "Epoch 5/10\n",
      "3/8 [==========>...................] - ETA: 25s - loss: 2.4153 - accuracy: 0.1458"
     ]
    }
   ],
   "source": [
    "import pandas as pd\n",
    "import os\n",
    "import tensorflow as tf\n",
    "from tensorflow.keras.applications import VGG16\n",
    "from tensorflow.keras.models import Sequential\n",
    "from tensorflow.keras.layers import Dense, Flatten, Dropout\n",
    "from sklearn.model_selection import StratifiedKFold\n",
    "from tensorflow.keras.preprocessing.image import ImageDataGenerator\n",
    "import numpy as np\n",
    "\n",
    "# Read the training and test data\n",
    "train_csv_file = './train_means_list.csv'\n",
    "train_df = pd.read_csv(train_csv_file)\n",
    "\n",
    "train_df['image'] = train_df['image'].str.lstrip('/')\n",
    "print(train_df.head())\n",
    "test_csv_file = './test_list.csv'\n",
    "test_df = pd.read_csv(test_csv_file)\n",
    "test_df['image'] = test_df['image'].str.lstrip('/')\n",
    "\n",
    "# Set the data directory\n",
    "data_dir = 'resized'\n",
    "num_classes = 9  # Number of output classes\n",
    "# Convert mean_score to categorical labels\n",
    "labels = train_df['mean_score']\n",
    "mean_score_labels = pd.qcut(labels, q=num_classes, labels=False, duplicates='drop')\n",
    "train_df['label'] = mean_score_labels.astype(str)\n",
    "\n",
    "# Define the network architecture\n",
    "def create_model(num_classes):\n",
    "    base_model = VGG16(weights='imagenet', include_top=False, input_shape=(224, 224, 3))\n",
    "    model = Sequential()\n",
    "    model.add(base_model)\n",
    "    model.add(Flatten())\n",
    "    model.add(Dense(4096, activation='relu'))\n",
    "    model.add(Dropout(0.5))\n",
    "    model.add(Dense(4096, activation='relu'))\n",
    "    model.add(Dropout(0.5))\n",
    "    model.add(Dense(num_classes, activation='softmax'))\n",
    "    return model\n",
    "\n",
    "# Define training parameters\n",
    "\n",
    "input_size = (224, 224)  # Input image size\n",
    "batch_size = 32\n",
    "num_epochs = 10\n",
    "learning_rate = 0.001\n",
    "\n",
    "# Prepare the dataset\n",
    "train_datagen = ImageDataGenerator(\n",
    "    rescale=1./255,\n",
    "    # other data augmentation and preprocessing options if needed\n",
    ")\n",
    "\n",
    "train_generator = train_datagen.flow_from_dataframe(\n",
    "    dataframe=train_df,\n",
    "    directory=data_dir,\n",
    "    x_col=\"image\",\n",
    "    y_col=\"label\",\n",
    "    target_size=input_size,\n",
    "    batch_size=batch_size,\n",
    "    class_mode=\"categorical\",\n",
    ")\n",
    "\n",
    "# Perform k-fold cross-validation\n",
    "num_folds = 5\n",
    "skf = StratifiedKFold(n_splits=num_folds)\n",
    "\n",
    "for fold, (train_index, val_index) in enumerate(skf.split(train_df, train_df['label'])):\n",
    "    print(f\"Fold {fold + 1}/{num_folds}\")\n",
    "\n",
    "    # Create data generators for the current fold\n",
    "    train_generator_fold = train_datagen.flow_from_dataframe(\n",
    "        dataframe=train_df.iloc[train_index],\n",
    "        directory=data_dir,\n",
    "        x_col=\"image\",\n",
    "        y_col=\"label\",\n",
    "        target_size=input_size,\n",
    "        batch_size=batch_size,\n",
    "        class_mode=\"categorical\",\n",
    "    )\n",
    "    val_generator_fold = train_datagen.flow_from_dataframe(\n",
    "        dataframe=train_df.iloc[val_index],\n",
    "        directory=data_dir,\n",
    "        x_col=\"image\",\n",
    "        y_col=\"label\",\n",
    "        target_size=input_size,\n",
    "        batch_size=batch_size,\n",
    "        class_mode=\"categorical\",\n",
    "        shuffle=False,\n",
    "    )\n",
    "\n",
    "    # Initialize the model\n",
    "    model = create_model(num_classes)\n",
    "\n",
    "    # Compile the model\n",
    "    model.compile(optimizer=tf.keras.optimizers.Adam(learning_rate=learning_rate),\n",
    "                  loss=tf.keras.losses.CategoricalCrossentropy(),\n",
    "                  metrics=['accuracy'])\n",
    "\n",
    "    # Training loop\n",
    "    model.fit(train_generator_fold,\n",
    "              epochs=num_epochs,\n",
    "              validation_data=val_generator_fold,\n",
    "              verbose=1)\n",
    "\n",
    "    # Save the model after each fold\n",
    "    fold_model_path = f\"model_fold{fold + 1}.h5\"\n",
    "    model.save(fold_model_path)\n",
    "    print(f\"Model saved at {fold_model_path}\")\n"
   ]
  }
 ],
 "metadata": {
  "kernelspec": {
   "display_name": "Python 3 (ipykernel)",
   "language": "python",
   "name": "python3"
  },
  "language_info": {
   "codemirror_mode": {
    "name": "ipython",
    "version": 3
   },
   "file_extension": ".py",
   "mimetype": "text/x-python",
   "name": "python",
   "nbconvert_exporter": "python",
   "pygments_lexer": "ipython3",
   "version": "3.8.10"
  }
 },
 "nbformat": 4,
 "nbformat_minor": 5
}
